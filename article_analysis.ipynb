{
 "cells": [
  {
   "cell_type": "code",
   "execution_count": 2,
   "id": "31ac0e3d",
   "metadata": {},
   "outputs": [
    {
     "name": "stdout",
     "output_type": "stream",
     "text": [
      "2025-10-11 15:41:26,198 INFO sqlalchemy.engine.Engine select pg_catalog.version()\n",
      "2025-10-11 15:41:26,199 INFO sqlalchemy.engine.Engine [raw sql] {}\n",
      "2025-10-11 15:41:26,203 INFO sqlalchemy.engine.Engine select current_schema()\n",
      "2025-10-11 15:41:26,204 INFO sqlalchemy.engine.Engine [raw sql] {}\n",
      "2025-10-11 15:41:26,205 INFO sqlalchemy.engine.Engine show standard_conforming_strings\n",
      "2025-10-11 15:41:26,205 INFO sqlalchemy.engine.Engine [raw sql] {}\n",
      "2025-10-11 15:41:26,236 INFO sqlalchemy.engine.Engine BEGIN (implicit)\n",
      "2025-10-11 15:41:26,238 INFO sqlalchemy.engine.Engine SELECT prices_latest.id AS prices_latest_id, prices_latest.article_id AS prices_latest_article_id, prices_latest.price AS prices_latest_price, prices_latest.price_per_unit AS prices_latest_price_per_unit, prices_latest.price_per_unit_base AS prices_latest_price_per_unit_base, prices_latest.timestamp AS prices_latest_timestamp \n",
      "FROM prices_latest \n",
      "WHERE prices_latest.article_id = %(article_id_1)s \n",
      " LIMIT %(param_1)s\n",
      "2025-10-11 15:41:26,239 INFO sqlalchemy.engine.Engine [generated in 0.00060s] {'article_id_1': 100, 'param_1': 1}\n",
      "f\n"
     ]
    }
   ],
   "source": [
    "from src.database_config.database import engine\n",
    "from src.models.prices_latest import PriceLatest\n",
    "from sqlalchemy.orm import Session\n",
    "\n",
    "from sqlalchemy import text\n",
    "session = Session(engine)\n",
    "\n",
    "with engine.connect() as conn:\n",
    "    x = (session.query(PriceLatest)\n",
    "            .filter_by(article_id=100)\n",
    "            .first())\n",
    "    print(\"f\")\n",
    "\n"
   ]
  },
  {
   "cell_type": "code",
   "execution_count": 3,
   "id": "75304069",
   "metadata": {},
   "outputs": [
    {
     "name": "stdout",
     "output_type": "stream",
     "text": [
      "2025-10-11 15:42:05,080 INFO sqlalchemy.engine.Engine BEGIN (implicit)\n",
      "2025-10-11 15:42:05,082 INFO sqlalchemy.engine.Engine SELECT prices_latest.id AS prices_latest_id, prices_latest.article_id AS prices_latest_article_id, prices_latest.price AS prices_latest_price, prices_latest.price_per_unit AS prices_latest_price_per_unit, prices_latest.price_per_unit_base AS prices_latest_price_per_unit_base, prices_latest.timestamp AS prices_latest_timestamp \n",
      "FROM prices_latest \n",
      "WHERE prices_latest.article_id = %(article_id_1)s \n",
      " LIMIT %(param_1)s\n",
      "2025-10-11 15:42:05,082 INFO sqlalchemy.engine.Engine [cached since 38.84s ago] {'article_id_1': 100, 'param_1': 1}\n",
      "PriceLatest[article_id=100]: id=11256, price=3.79, price_per_unit=0.32, timestamp=2025-10-10\n"
     ]
    }
   ],
   "source": [
    "from src.database_config.database import engine\n",
    "from src.models.prices_latest import PriceLatest\n",
    "from sqlalchemy.orm import Session\n",
    "\n",
    "session = Session(engine)\n",
    "\n",
    "\n",
    "# Query the row\n",
    "x = session.query(PriceLatest).filter_by(article_id=100).first()\n",
    "\n",
    "# Nice print\n",
    "if x:\n",
    "    print(f\"PriceLatest[article_id={x.article_id}]: id={x.id}, price={x.price}, price_per_unit={x.price_per_unit}, timestamp={x.timestamp}\")\n",
    "else:\n",
    "    print(\"No PriceLatest found for article_id=100\")\n"
   ]
  },
  {
   "cell_type": "code",
   "execution_count": 10,
   "id": "cc8bde7f",
   "metadata": {},
   "outputs": [
    {
     "name": "stdout",
     "output_type": "stream",
     "text": [
      "2025-10-11 17:14:35,848 INFO sqlalchemy.engine.Engine SELECT prices_latest.id AS prices_latest_id, prices_latest.article_id AS prices_latest_article_id, prices_latest.price AS prices_latest_price, prices_latest.price_per_unit AS prices_latest_price_per_unit, prices_latest.price_per_unit_base AS prices_latest_price_per_unit_base, prices_latest.timestamp AS prices_latest_timestamp \n",
      "FROM prices_latest \n",
      "WHERE prices_latest.article_id = %(article_id_1)s \n",
      " LIMIT %(param_1)s\n",
      "2025-10-11 17:14:35,848 INFO sqlalchemy.engine.Engine [cached since 2454s ago] {'article_id_1': 4, 'param_1': 1}\n",
      "Unchanged price for article: 3.\n"
     ]
    }
   ],
   "source": [
    "if (\n",
    "        latest_price := session.query(PriceLatest)\n",
    "        .filter_by(article_id=article.id)\n",
    "        .first()\n",
    ") and (\n",
    "    latest_price.price == 2.39\n",
    ") and (\n",
    "    latest_price.price_per_unit == 0.24\n",
    "    ):\n",
    "        print(\n",
    "            f\"Unchanged price for article: {3}.\"\n",
    "        )\n",
    "else: \n",
    "    if not latest_price:\n",
    "        latest_price = PriceLatest(article=article)\n",
    "        session.add(latest_price)\n",
    "    print(\n",
    "        f\"New prices for article: {3}.\"\n",
    "    )"
   ]
  },
  {
   "cell_type": "code",
   "execution_count": 15,
   "id": "b0432446",
   "metadata": {},
   "outputs": [
    {
     "data": {
      "text/plain": [
       "\"Decimal('13.393000000000000682121026329696178436279296875')\""
      ]
     },
     "execution_count": 15,
     "metadata": {},
     "output_type": "execute_result"
    }
   ],
   "source": [
    "from decimal import Decimal\n",
    "repr(Decimal(13.393))"
   ]
  }
 ],
 "metadata": {
  "kernelspec": {
   "display_name": "venv",
   "language": "python",
   "name": "python3"
  },
  "language_info": {
   "codemirror_mode": {
    "name": "ipython",
    "version": 3
   },
   "file_extension": ".py",
   "mimetype": "text/x-python",
   "name": "python",
   "nbconvert_exporter": "python",
   "pygments_lexer": "ipython3",
   "version": "3.12.11"
  }
 },
 "nbformat": 4,
 "nbformat_minor": 5
}
