{
 "cells": [
  {
   "cell_type": "code",
   "execution_count": 10,
   "id": "31ac0e3d",
   "metadata": {},
   "outputs": [
    {
     "name": "stdout",
     "output_type": "stream",
     "text": [
      "2025-10-12 14:19:22,333 INFO sqlalchemy.engine.Engine BEGIN (implicit)\n",
      "2025-10-12 14:19:22,335 INFO sqlalchemy.engine.Engine SELECT stores.name AS store_name, articles.name AS article_name, prices.price AS prices_price, avg(prices.price) OVER (PARTITION BY stores.id) AS avg_store_price \n",
      "FROM prices JOIN articles ON articles.id = prices.article_id JOIN stores ON stores.id = articles.store_id \n",
      "WHERE prices.timestamp >= %(timestamp_1)s ORDER BY stores.id, prices.price DESC\n",
      "2025-10-12 14:19:22,338 INFO sqlalchemy.engine.Engine [cached since 112.8s ago] {'timestamp_1': datetime.date(2025, 9, 12)}\n"
     ]
    },
    {
     "ename": "AttributeError",
     "evalue": "'list' object has no attribute 'as_dict'",
     "output_type": "error",
     "traceback": [
      "\u001b[31m---------------------------------------------------------------------------\u001b[39m",
      "\u001b[31mAttributeError\u001b[39m                            Traceback (most recent call last)",
      "\u001b[36mCell\u001b[39m\u001b[36m \u001b[39m\u001b[32mIn[10]\u001b[39m\u001b[32m, line 30\u001b[39m\n\u001b[32m     16\u001b[39m \u001b[38;5;66;03m# query prices joined with articles and stores\u001b[39;00m\n\u001b[32m     17\u001b[39m query = (\n\u001b[32m     18\u001b[39m     session.query(\n\u001b[32m     19\u001b[39m         Store.name.label(\u001b[33m\"\u001b[39m\u001b[33mstore_name\u001b[39m\u001b[33m\"\u001b[39m),\n\u001b[32m   (...)\u001b[39m\u001b[32m     27\u001b[39m     .order_by(Store.id, desc(Price.price))\n\u001b[32m     28\u001b[39m )\n\u001b[32m---> \u001b[39m\u001b[32m30\u001b[39m results = \u001b[43mquery\u001b[49m\u001b[43m.\u001b[49m\u001b[43mall\u001b[49m\u001b[43m(\u001b[49m\u001b[43m)\u001b[49m\u001b[43m.\u001b[49m\u001b[43mas_dict\u001b[49m()\n\u001b[32m     32\u001b[39m \u001b[38;5;66;03m# display nicely in pandas\u001b[39;00m\n\u001b[32m     33\u001b[39m \u001b[38;5;28;01mimport\u001b[39;00m\u001b[38;5;250m \u001b[39m\u001b[34;01mpandas\u001b[39;00m\u001b[38;5;250m \u001b[39m\u001b[38;5;28;01mas\u001b[39;00m\u001b[38;5;250m \u001b[39m\u001b[34;01mpd\u001b[39;00m\n",
      "\u001b[31mAttributeError\u001b[39m: 'list' object has no attribute 'as_dict'"
     ]
    }
   ],
   "source": [
    "from sqlalchemy import func, desc\n",
    "from datetime import date, timedelta\n",
    "from sqlalchemy.orm import joinedload\n",
    "from src.models.articles import Article\n",
    "from src.models.stores import Store\n",
    "from src.models.prices import Price\n",
    "from src.database_config.database import engine\n",
    "\n",
    "from sqlalchemy.orm import Session\n",
    "\n",
    "session = Session(engine)\n",
    "\n",
    "# last 30 days\n",
    "start_date = date.today() - timedelta(days=30)\n",
    "\n",
    "# query prices joined with articles and stores\n",
    "query = (\n",
    "    session.query(\n",
    "        Store.name.label(\"store_name\"),\n",
    "        Article.name.label(\"article_name\"),\n",
    "        Price.price,\n",
    "        func.avg(Price.price).over(partition_by=Store.id).label(\"avg_store_price\")\n",
    "    )\n",
    "    .join(Article, Article.id == Price.article_id)\n",
    "    .join(Store, Store.id == Article.store_id)\n",
    "    .filter(Price.timestamp >= start_date)\n",
    "    .order_by(Store.id, desc(Price.price))\n",
    ")\n",
    "\n",
    "results = query.all().as_dict()\n",
    "\n",
    "# display nicely in pandas\n",
    "import pandas as pd\n",
    "df = pd.DataFrame(results)\n",
    "df.head(20)\n"
   ]
  },
  {
   "cell_type": "code",
   "execution_count": 3,
   "id": "75304069",
   "metadata": {},
   "outputs": [
    {
     "name": "stdout",
     "output_type": "stream",
     "text": [
      "2025-10-11 15:42:05,080 INFO sqlalchemy.engine.Engine BEGIN (implicit)\n",
      "2025-10-11 15:42:05,082 INFO sqlalchemy.engine.Engine SELECT prices_latest.id AS prices_latest_id, prices_latest.article_id AS prices_latest_article_id, prices_latest.price AS prices_latest_price, prices_latest.price_per_unit AS prices_latest_price_per_unit, prices_latest.price_per_unit_base AS prices_latest_price_per_unit_base, prices_latest.timestamp AS prices_latest_timestamp \n",
      "FROM prices_latest \n",
      "WHERE prices_latest.article_id = %(article_id_1)s \n",
      " LIMIT %(param_1)s\n",
      "2025-10-11 15:42:05,082 INFO sqlalchemy.engine.Engine [cached since 38.84s ago] {'article_id_1': 100, 'param_1': 1}\n",
      "PriceLatest[article_id=100]: id=11256, price=3.79, price_per_unit=0.32, timestamp=2025-10-10\n"
     ]
    }
   ],
   "source": [
    "from src.database_config.database import engine\n",
    "from src.models.prices_latest import PriceLatest\n",
    "from sqlalchemy.orm import Session\n",
    "\n",
    "session = Session(engine)\n",
    "\n",
    "\n",
    "# Query the row\n",
    "x = session.query(PriceLatest).filter_by(article_id=100).first()\n",
    "\n",
    "# Nice print\n",
    "if x:\n",
    "    print(f\"PriceLatest[article_id={x.article_id}]: id={x.id}, price={x.price}, price_per_unit={x.price_per_unit}, timestamp={x.timestamp}\")\n",
    "else:\n",
    "    print(\"No PriceLatest found for article_id=100\")\n"
   ]
  },
  {
   "cell_type": "code",
   "execution_count": 13,
   "id": "cc8bde7f",
   "metadata": {},
   "outputs": [
    {
     "ename": "NameError",
     "evalue": "name 'article' is not defined",
     "output_type": "error",
     "traceback": [
      "\u001b[31m---------------------------------------------------------------------------\u001b[39m",
      "\u001b[31mNameError\u001b[39m                                 Traceback (most recent call last)",
      "\u001b[36mCell\u001b[39m\u001b[36m \u001b[39m\u001b[32mIn[13]\u001b[39m\u001b[32m, line 3\u001b[39m\n\u001b[32m      1\u001b[39m \u001b[38;5;28;01mif\u001b[39;00m (\n\u001b[32m      2\u001b[39m         latest_price := session.query(PriceLatest)\n\u001b[32m----> \u001b[39m\u001b[32m3\u001b[39m         .filter_by(article_id=\u001b[43marticle\u001b[49m.id)\n\u001b[32m      4\u001b[39m         .first()\n\u001b[32m      5\u001b[39m ) \u001b[38;5;129;01mand\u001b[39;00m (\n\u001b[32m      6\u001b[39m     latest_price.price == \u001b[32m2.39\u001b[39m\n\u001b[32m      7\u001b[39m ) \u001b[38;5;129;01mand\u001b[39;00m (\n\u001b[32m      8\u001b[39m     latest_price.price_per_unit == \u001b[32m0.24\u001b[39m\n\u001b[32m      9\u001b[39m     ):\n\u001b[32m     10\u001b[39m         \u001b[38;5;28mprint\u001b[39m(\n\u001b[32m     11\u001b[39m             \u001b[33mf\u001b[39m\u001b[33m\"\u001b[39m\u001b[33mUnchanged price for article: \u001b[39m\u001b[38;5;132;01m{\u001b[39;00m\u001b[32m3\u001b[39m\u001b[38;5;132;01m}\u001b[39;00m\u001b[33m.\u001b[39m\u001b[33m\"\u001b[39m\n\u001b[32m     12\u001b[39m         )\n\u001b[32m     13\u001b[39m \u001b[38;5;28;01melse\u001b[39;00m: \n",
      "\u001b[31mNameError\u001b[39m: name 'article' is not defined"
     ]
    }
   ],
   "source": [
    "if (\n",
    "        latest_price := session.query(PriceLatest)\n",
    "        .filter_by(article_id=article.id)\n",
    "        .first()\n",
    ") and (\n",
    "    latest_price.price == 2.39\n",
    ") and (\n",
    "    latest_price.price_per_unit == 0.24\n",
    "    ):\n",
    "        print(\n",
    "            f\"Unchanged price for article: {3}.\"\n",
    "        )\n",
    "else: \n",
    "    if not latest_price:\n",
    "        latest_price = PriceLatest(article=article)\n",
    "    print(\n",
    "        f\"New prices for article: {3}.\"\n",
    "    )"
   ]
  },
  {
   "cell_type": "code",
   "execution_count": 12,
   "id": "b0432446",
   "metadata": {},
   "outputs": [
    {
     "ename": "NoSessionError",
     "evalue": "Cant get session.Please, call SaActiveRecord.set_session()",
     "output_type": "error",
     "traceback": [
      "\u001b[31m---------------------------------------------------------------------------\u001b[39m",
      "\u001b[31mNoSessionError\u001b[39m                            Traceback (most recent call last)",
      "\u001b[36mCell\u001b[39m\u001b[36m \u001b[39m\u001b[32mIn[12]\u001b[39m\u001b[32m, line 12\u001b[39m\n\u001b[32m      9\u001b[39m \u001b[38;5;28;01mfrom\u001b[39;00m\u001b[38;5;250m \u001b[39m\u001b[34;01msqlalchemy\u001b[39;00m\u001b[34;01m.\u001b[39;00m\u001b[34;01morm\u001b[39;00m\u001b[38;5;250m \u001b[39m\u001b[38;5;28;01mimport\u001b[39;00m Session\n\u001b[32m     11\u001b[39m session = Session(engine)\n\u001b[32m---> \u001b[39m\u001b[32m12\u001b[39m articles = \u001b[43mArticle\u001b[49m\u001b[43m.\u001b[49m\u001b[43mquery\u001b[49m.session(session).all().as_dict()\n",
      "\u001b[36mFile \u001b[39m\u001b[32m~/Desktop/FMF/github-projects/store-base/venv/lib/python3.12/site-packages/sqlalchemy_mixins/utils.py:15\u001b[39m, in \u001b[36mclassproperty.__get__\u001b[39m\u001b[34m(self, owner_self, owner_cls)\u001b[39m\n\u001b[32m     14\u001b[39m \u001b[38;5;28;01mdef\u001b[39;00m\u001b[38;5;250m \u001b[39m\u001b[34m__get__\u001b[39m(\u001b[38;5;28mself\u001b[39m, owner_self, owner_cls):\n\u001b[32m---> \u001b[39m\u001b[32m15\u001b[39m     \u001b[38;5;28;01mreturn\u001b[39;00m \u001b[38;5;28;43mself\u001b[39;49m\u001b[43m.\u001b[49m\u001b[43mfget\u001b[49m\u001b[43m(\u001b[49m\u001b[43mowner_cls\u001b[49m\u001b[43m)\u001b[49m\n",
      "\u001b[36mFile \u001b[39m\u001b[32m~/Desktop/FMF/github-projects/store-base/venv/lib/python3.12/site-packages/sqlalchemy_mixins/session.py:35\u001b[39m, in \u001b[36mSessionMixin.query\u001b[39m\u001b[34m(cls)\u001b[39m\n\u001b[32m     30\u001b[39m \u001b[38;5;129m@classproperty\u001b[39m\n\u001b[32m     31\u001b[39m \u001b[38;5;28;01mdef\u001b[39;00m\u001b[38;5;250m \u001b[39m\u001b[34mquery\u001b[39m(\u001b[38;5;28mcls\u001b[39m):\n\u001b[32m     32\u001b[39m \u001b[38;5;250m    \u001b[39m\u001b[33;03m\"\"\"\u001b[39;00m\n\u001b[32m     33\u001b[39m \u001b[33;03m    :rtype: Query\u001b[39;00m\n\u001b[32m     34\u001b[39m \u001b[33;03m    \"\"\"\u001b[39;00m\n\u001b[32m---> \u001b[39m\u001b[32m35\u001b[39m     \u001b[38;5;28;01mreturn\u001b[39;00m \u001b[38;5;28;43mcls\u001b[39;49m\u001b[43m.\u001b[49m\u001b[43msession\u001b[49m.query(\u001b[38;5;28mcls\u001b[39m)\n",
      "\u001b[36mFile \u001b[39m\u001b[32m~/Desktop/FMF/github-projects/store-base/venv/lib/python3.12/site-packages/sqlalchemy_mixins/utils.py:15\u001b[39m, in \u001b[36mclassproperty.__get__\u001b[39m\u001b[34m(self, owner_self, owner_cls)\u001b[39m\n\u001b[32m     14\u001b[39m \u001b[38;5;28;01mdef\u001b[39;00m\u001b[38;5;250m \u001b[39m\u001b[34m__get__\u001b[39m(\u001b[38;5;28mself\u001b[39m, owner_self, owner_cls):\n\u001b[32m---> \u001b[39m\u001b[32m15\u001b[39m     \u001b[38;5;28;01mreturn\u001b[39;00m \u001b[38;5;28;43mself\u001b[39;49m\u001b[43m.\u001b[49m\u001b[43mfget\u001b[49m\u001b[43m(\u001b[49m\u001b[43mowner_cls\u001b[49m\u001b[43m)\u001b[49m\n",
      "\u001b[36mFile \u001b[39m\u001b[32m~/Desktop/FMF/github-projects/store-base/venv/lib/python3.12/site-packages/sqlalchemy_mixins/session.py:27\u001b[39m, in \u001b[36mSessionMixin.session\u001b[39m\u001b[34m(cls)\u001b[39m\n\u001b[32m     25\u001b[39m     \u001b[38;5;28;01mreturn\u001b[39;00m \u001b[38;5;28mcls\u001b[39m._session\n\u001b[32m     26\u001b[39m \u001b[38;5;28;01melse\u001b[39;00m:\n\u001b[32m---> \u001b[39m\u001b[32m27\u001b[39m     \u001b[38;5;28;01mraise\u001b[39;00m NoSessionError(\u001b[33m'\u001b[39m\u001b[33mCant get session.\u001b[39m\u001b[33m'\u001b[39m\n\u001b[32m     28\u001b[39m                          \u001b[33m'\u001b[39m\u001b[33mPlease, call SaActiveRecord.set_session()\u001b[39m\u001b[33m'\u001b[39m)\n",
      "\u001b[31mNoSessionError\u001b[39m: Cant get session.Please, call SaActiveRecord.set_session()"
     ]
    }
   ],
   "source": [
    "from sqlalchemy import func, desc\n",
    "from datetime import date, timedelta\n",
    "from sqlalchemy.orm import joinedload\n",
    "from src.models.articles import Article\n",
    "from src.models.stores import Store\n",
    "from src.models.prices import Price\n",
    "from src.database_config.database import engine\n",
    "\n",
    "from sqlalchemy.orm import Session\n",
    "\n",
    "session = Session(engine)\n",
    "articles = Article.query.session(session).all().as_dict()"
   ]
  },
  {
   "cell_type": "code",
   "execution_count": 17,
   "id": "f03f68c4",
   "metadata": {},
   "outputs": [
    {
     "name": "stdout",
     "output_type": "stream",
     "text": [
      "2025-10-12 14:39:17,750 INFO sqlalchemy.engine.Engine SELECT articles.id AS articles_id, articles.ean_13 AS articles_ean_13, articles.name AS articles_name, articles.brand_name AS articles_brand_name, articles.invoice_unit AS articles_invoice_unit, articles.invoice_unit_type AS articles_invoice_unit_type, articles.store_id AS articles_store_id, stores_1.id AS stores_1_id, stores_1.name AS stores_1_name, prices_latest_1.id AS prices_latest_1_id, prices_latest_1.article_id AS prices_latest_1_article_id, prices_latest_1.price AS prices_latest_1_price, prices_latest_1.price_per_unit AS prices_latest_1_price_per_unit, prices_latest_1.price_per_unit_base AS prices_latest_1_price_per_unit_base, prices_latest_1.timestamp AS prices_latest_1_timestamp \n",
      "FROM articles LEFT OUTER JOIN stores AS stores_1 ON stores_1.id = articles.store_id LEFT OUTER JOIN prices_latest AS prices_latest_1 ON articles.id = prices_latest_1.article_id\n",
      "2025-10-12 14:39:17,751 INFO sqlalchemy.engine.Engine [cached since 25.58s ago] {}\n"
     ]
    }
   ],
   "source": [
    "from src.models.stores import Store\n",
    "from src.models.articles import Article\n",
    "from src.models.prices import Price \n",
    "from src.models.prices_latest import PriceLatest \n",
    "from src.models.categories import Category \n",
    "from src.models.images import Image\n",
    "from src.models.base import Base\n",
    "\n",
    "from src.database_config.database import session \n",
    "\n",
    "from sqlalchemy import (\n",
    "    func, desc\n",
    ")\n",
    "from sqlalchemy.orm import joinedload\n",
    "\n",
    "articles = (\n",
    "    Article.query.with_session(session)\n",
    "    .options(\n",
    "        joinedload(Article.store),\n",
    "        joinedload(Article.price_latest)\n",
    "    )\n",
    "    .all()\n",
    ")\n",
    "\n",
    "# Convert to list of dicts automatically\n",
    "data = articles  # works because these are ORM objects\n"
   ]
  },
  {
   "cell_type": "code",
   "execution_count": 9,
   "id": "1755b924",
   "metadata": {},
   "outputs": [],
   "source": [
    "from src.models.base import Base \n",
    "Base.set_session(session=None)\n"
   ]
  }
 ],
 "metadata": {
  "kernelspec": {
   "display_name": "venv",
   "language": "python",
   "name": "python3"
  },
  "language_info": {
   "codemirror_mode": {
    "name": "ipython",
    "version": 3
   },
   "file_extension": ".py",
   "mimetype": "text/x-python",
   "name": "python",
   "nbconvert_exporter": "python",
   "pygments_lexer": "ipython3",
   "version": "3.12.11"
  }
 },
 "nbformat": 4,
 "nbformat_minor": 5
}
